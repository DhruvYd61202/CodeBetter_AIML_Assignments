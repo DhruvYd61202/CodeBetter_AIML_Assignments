{
 "cells": [
  {
   "cell_type": "markdown",
   "id": "2cc21fea",
   "metadata": {},
   "source": [
    "### EDA On Netflix Dataset\n"
   ]
  },
  {
   "cell_type": "code",
   "execution_count": 22,
   "id": "4deef0c8",
   "metadata": {},
   "outputs": [],
   "source": [
    "import numpy as np\n",
    "import pandas as pd\n",
    "import warnings\n",
    "warnings.filterwarnings('ignore')\n",
    "import matplotlib.pyplot as plt\n",
    "import seaborn as sns\n",
    "import plotly.express as px\n",
    "import plotly.graph_objects as go\n",
    "from wordcloud import WordCloud, STOPWORDS, ImageColorGenerator\n",
    "from PIL import Image\n",
    "import plotly.io as pio\n",
    "pd.set_option('display.max_columns', None)\n",
    "pd.set_option('display.max_rows', None)\n",
    "%matplotlib inline\n",
    "from collections import Counter"
   ]
  },
  {
   "cell_type": "markdown",
   "id": "e30b9caf-66cc-41bd-b09d-a3b42ba125ea",
   "metadata": {},
   "source": [
    "#### Imputing Missing Values, Checking Duplicates and Fixing data types (if needed)"
   ]
  },
  {
   "cell_type": "code",
   "execution_count": 2,
   "id": "c990b4ff",
   "metadata": {},
   "outputs": [
    {
     "name": "stdout",
     "output_type": "stream",
     "text": [
      "  show_id     type                  title         director  \\\n",
      "0      s1    Movie   Dick Johnson Is Dead  Kirsten Johnson   \n",
      "1      s2  TV Show          Blood & Water              NaN   \n",
      "2      s3  TV Show              Ganglands  Julien Leclercq   \n",
      "3      s4  TV Show  Jailbirds New Orleans              NaN   \n",
      "4      s5  TV Show           Kota Factory              NaN   \n",
      "\n",
      "                                                cast        country  \\\n",
      "0                                                NaN  United States   \n",
      "1  Ama Qamata, Khosi Ngema, Gail Mabalane, Thaban...   South Africa   \n",
      "2  Sami Bouajila, Tracy Gotoas, Samuel Jouy, Nabi...            NaN   \n",
      "3                                                NaN            NaN   \n",
      "4  Mayur More, Jitendra Kumar, Ranjan Raj, Alam K...          India   \n",
      "\n",
      "           date_added  release_year rating   duration  \\\n",
      "0  September 25, 2021          2020  PG-13     90 min   \n",
      "1  September 24, 2021          2021  TV-MA  2 Seasons   \n",
      "2  September 24, 2021          2021  TV-MA   1 Season   \n",
      "3  September 24, 2021          2021  TV-MA   1 Season   \n",
      "4  September 24, 2021          2021  TV-MA  2 Seasons   \n",
      "\n",
      "                                           listed_in  \\\n",
      "0                                      Documentaries   \n",
      "1    International TV Shows, TV Dramas, TV Mysteries   \n",
      "2  Crime TV Shows, International TV Shows, TV Act...   \n",
      "3                             Docuseries, Reality TV   \n",
      "4  International TV Shows, Romantic TV Shows, TV ...   \n",
      "\n",
      "                                         description  \n",
      "0  As her father nears the end of his life, filmm...  \n",
      "1  After crossing paths at a party, a Cape Town t...  \n",
      "2  To protect his family from a powerful drug lor...  \n",
      "3  Feuds, flirtations and toilet talk go down amo...  \n",
      "4  In a city of coaching centers known to train I...  \n",
      "Index(['show_id', 'type', 'title', 'director', 'cast', 'country', 'date_added',\n",
      "       'release_year', 'rating', 'duration', 'listed_in', 'description'],\n",
      "      dtype='object')\n"
     ]
    }
   ],
   "source": [
    "data  = pd.read_csv('netflix_titles.csv')\n",
    "netflix_overall = pd.DataFrame(data)\n",
    "print(netflix_overall.head())\n",
    "print(netflix_overall.columns)"
   ]
  },
  {
   "cell_type": "code",
   "execution_count": 3,
   "id": "09cb9072",
   "metadata": {},
   "outputs": [
    {
     "name": "stdout",
     "output_type": "stream",
     "text": [
      " director null_rate ->  29.91%\n",
      " cast null_rate ->  9.37%\n",
      " country null_rate ->  9.44%\n",
      " date_added null_rate ->  0.11%\n",
      " rating null_rate ->  0.05%\n",
      " duration null_rate ->  0.03%\n"
     ]
    }
   ],
   "source": [
    "# Attributes Director, cast, country, date_added, ratinf and duration have null values in descending order respectively\n",
    "# print(netflix_overall.isna().sum())\n",
    "# Missing rates in the dataframe\n",
    "for i in netflix_overall.columns:\n",
    "    null_rate = netflix_overall[i].isna().sum() / len(netflix_overall) * 100\n",
    "    if null_rate > 0:\n",
    "        print(\" {} null_rate ->  {}%\".format(i, round(null_rate,2)))   "
   ]
  },
  {
   "cell_type": "markdown",
   "id": "bdaf424a-2c25-4b04-b6d2-25d17c8d8ab9",
   "metadata": {},
   "source": [
    "5 columns have missing values, with Director missing almost 1/3 of the time"
   ]
  },
  {
   "cell_type": "markdown",
   "id": "9b6a5c85-0e38-4ba0-8df7-2c3017f87d0a",
   "metadata": {},
   "source": [
    "## Dealing with Missing Values\n",
    "- Replacing Blank Countries with mode country \n",
    "\n",
    "- I have decided not to drop directors and cast, as it could be interesting to look at movies of particular directors and genres"
   ]
  },
  {
   "cell_type": "code",
   "execution_count": 4,
   "id": "26c2507c-83fd-4130-9af8-569d8d7d8cc2",
   "metadata": {},
   "outputs": [
    {
     "name": "stdout",
     "output_type": "stream",
     "text": [
      "show_id          0\n",
      "type             0\n",
      "title            0\n",
      "director         0\n",
      "cast             0\n",
      "country          0\n",
      "date_added      10\n",
      "release_year     0\n",
      "rating           4\n",
      "duration         3\n",
      "listed_in        0\n",
      "description      0\n",
      "dtype: int64\n"
     ]
    }
   ],
   "source": [
    "netflix_overall['country'] = netflix_overall['country'].fillna(netflix_overall['country'].mode()[0])\n",
    "netflix_overall['cast'].replace(np.nan, 'No Data', inplace=True)\n",
    "netflix_overall['director'].replace(np.nan, 'No Data', inplace=True)\n",
    "\n",
    "# dropping duplicate values\n",
    "netflix_overall.drop_duplicates(inplace=True)\n",
    "#check if the values are imputed\n",
    "print(netflix_overall.isna().sum())\n"
   ]
  },
  {
   "cell_type": "code",
   "execution_count": 5,
   "id": "3dacab76-a514-44a3-a9a0-2ad26f53e463",
   "metadata": {},
   "outputs": [
    {
     "name": "stdout",
     "output_type": "stream",
     "text": [
      "object\n",
      "     show_id     type                                        title  \\\n",
      "6066   s6067  TV Show  A Young Doctor's Notebook and Other Stories   \n",
      "6079   s6080  TV Show                              Abnormal Summit   \n",
      "6174   s6175  TV Show              Anthony Bourdain: Parts Unknown   \n",
      "6177   s6178  TV Show                                     忍者ハットリくん   \n",
      "6213   s6214  TV Show                                Bad Education   \n",
      "\n",
      "                     director  \\\n",
      "6066                  No Data   \n",
      "6079  Jung-ah Im, Seung-uk Jo   \n",
      "6174                  No Data   \n",
      "6177                  No Data   \n",
      "6213                  No Data   \n",
      "\n",
      "                                                   cast         country  \\\n",
      "6066  Daniel Radcliffe, Jon Hamm, Adam Godley, Chris...  United Kingdom   \n",
      "6079           Hyun-moo Jun, Si-kyung Sung, Se-yoon Yoo     South Korea   \n",
      "6174                                   Anthony Bourdain   United States   \n",
      "6177                                            No Data           Japan   \n",
      "6213  Jack Whitehall, Mathew Horne, Sarah Solemani, ...  United Kingdom   \n",
      "\n",
      "     date_added  release_year rating   duration  \\\n",
      "6066        NaT          2013  TV-MA  2 Seasons   \n",
      "6079        NaT          2017  TV-PG  2 Seasons   \n",
      "6174        NaT          2018  TV-PG  5 Seasons   \n",
      "6177        NaT          2012  TV-Y7  2 Seasons   \n",
      "6213        NaT          2014  TV-MA  3 Seasons   \n",
      "\n",
      "                                              listed_in  \\\n",
      "6066           British TV Shows, TV Comedies, TV Dramas   \n",
      "6079  International TV Shows, Korean TV Shows, Stand...   \n",
      "6174                                         Docuseries   \n",
      "6177                             Anime Series, Kids' TV   \n",
      "6213                      British TV Shows, TV Comedies   \n",
      "\n",
      "                                            description  \n",
      "6066  Set during the Russian Revolution, this comic ...  \n",
      "6079  Led by a trio of Korean celebs, a multinationa...  \n",
      "6174  This CNN original series has chef Anthony Bour...  \n",
      "6177  Hailing from the mountains of Iga, Kanzo Hatto...  \n",
      "6213  A history teacher at the posh Abbey Grove, Alf...  \n",
      "(8807, 12)\n",
      "(8702, 12)\n"
     ]
    }
   ],
   "source": [
    "print(netflix_overall['date_added'].dtype)\n",
    "#it outputs, 'object' which means there are different date formats\n",
    "netflix_overall['date_added'] = pd.to_datetime(netflix_overall['date_added'], errors='coerce')\n",
    "netflix_overall[netflix_overall['date_added'].isnull()]['date_added']\n",
    "\n",
    "# Let's have a look at the date_added missing values' other attributes\n",
    "print(netflix_overall[netflix_overall['date_added'].isnull()].head())\n",
    "# print(netflix_overall[netflix_overall['date_added'].isnull()].shape)\n",
    "#there are 98 missing values in the date format, which shows 'NaT' not a time type\n",
    "# we will replace those values with (release_year + 1) value if it is a movie/series both,\n",
    "# estimating that those movies \n",
    "\n",
    "#Dropped rest of the Nan values\n",
    "print(netflix_overall.shape)\n",
    "netflix_overall.dropna(inplace=True)\n",
    "print(netflix_overall.shape)\n"
   ]
  },
  {
   "cell_type": "code",
   "execution_count": 6,
   "id": "a65aad86-b613-4f23-a6c6-570da50a1810",
   "metadata": {},
   "outputs": [],
   "source": [
    "# Seperating Shows and Movies, performing analysis differently on shows and movies\n",
    "netflix_shows = netflix_overall[netflix_overall['type'] == 'TV Show']\n",
    "netflix_movies = netflix_overall[netflix_overall['type'] == 'Movie']"
   ]
  },
  {
   "cell_type": "code",
   "execution_count": 7,
   "id": "24104566-79a1-4323-b9cb-71fb0ed94949",
   "metadata": {},
   "outputs": [
    {
     "data": {
      "image/png": "[encoded data removed]",
      "text/plain": [
       "<Figure size 640x480 with 1 Axes>"
      ]
     },
     "metadata": {},
     "output_type": "display_data"
    }
   ],
   "source": [
    "sns.set_theme(style='darkgrid',palette='pastel')\n",
    "ax = sns.countplot(x='type', data=netflix_overall, palette='Set2')\n",
    "plt.xlabel('Type')\n",
    "plt.show()\n",
    "#It is evident that there are more movies than shows in this dataset"
   ]
  },
  {
   "cell_type": "code",
   "execution_count": 8,
   "id": "bb3a3371-2bda-4da3-aac2-bc97f8564394",
   "metadata": {
    "scrolled": true
   },
   "outputs": [
    {
     "name": "stdout",
     "output_type": "stream",
     "text": [
      "  date_added  year  month month_name\n",
      "1 2021-09-24  2021      9  September\n",
      "2 2021-09-24  2021      9  September\n",
      "3 2021-09-24  2021      9  September\n",
      "4 2021-09-24  2021      9  September\n",
      "5 2021-09-24  2021      9  September\n",
      "['December', 'November', 'October', 'September', 'August', 'July', 'June', 'May', 'April', 'March', 'February', 'January']\n"
     ]
    },
    {
     "data": {
      "image/png": "[encoded data removed]",
      "text/plain": [
       "<Figure size 2000x1400 with 2 Axes>"
      ]
     },
     "metadata": {},
     "output_type": "display_data"
    }
   ],
   "source": [
    "netflix_date = netflix_shows[['date_added']].dropna()\n",
    "netflix_date['year'] = pd.DatetimeIndex(netflix_date['date_added']).year\n",
    "netflix_date['month'] = pd.DatetimeIndex(netflix_date['date_added']).month\n",
    "netflix_date['month_name'] = netflix_date['month'].map({\n",
    "    1: 'January', 2: 'February', 3: 'March', 4: 'April',\n",
    "    5: 'May', 6: 'June', 7: 'July', 8: 'August',\n",
    "    9: 'September', 10: 'October', 11: 'November', 12: 'December'\n",
    "})\n",
    "print(netflix_date.head())\n",
    "\n",
    "month_order = ['January', 'February', 'March', 'April', 'May', 'June', 'July', 'August', 'September', 'October', 'November', 'December'][::-1]\n",
    "print(month_order)\n",
    "\n",
    "\n",
    "df = netflix_date.groupby('year')['month_name'].value_counts().unstack(level=1).fillna(0)[month_order].T\n",
    "# print(df)\n",
    "\n",
    "#plotting\n",
    "plt.figure(figsize=(10, 7), dpi=200)\n",
    "plt.pcolor(df, cmap='afmhot_r', edgecolors='white', linewidths=2) # heatmap\n",
    "plt.xticks(np.arange(0.5, len(df.columns), 1), df.columns, fontsize=7, fontfamily='serif')\n",
    "plt.yticks(np.arange(0.5, len(df.index), 1), df.index, fontsize=7, fontfamily='serif')\n",
    "\n",
    "plt.title('Netflix Contents Update', fontsize=12, fontfamily='Times New Roman', fontweight='bold', position=(0.250, 1.0+0.02))\n",
    "cbar = plt.colorbar() #heatmap\n",
    "\n",
    "cbar.ax.tick_params(labelsize=8) \n",
    "cbar.ax.minorticks_on()\n",
    "plt.show()"
   ]
  },
  {
   "cell_type": "markdown",
   "id": "c3620de4-be8f-4e4a-8eef-717389e89982",
   "metadata": {},
   "source": [
    "### Movie Ratings analysis"
   ]
  },
  {
   "cell_type": "code",
   "execution_count": 9,
   "id": "83638f8e-cec4-4c58-b8a2-514054325ad8",
   "metadata": {},
   "outputs": [
    {
     "data": {
      "image/png": "[encoded data removed]",
      "text/plain": [
       "<Figure size 1800x1500 with 1 Axes>"
      ]
     },
     "metadata": {},
     "output_type": "display_data"
    }
   ],
   "source": [
    "plt.figure(figsize=(18,15))\n",
    "sns.set_theme(style='darkgrid',palette='pastel')\n",
    "ax1 = sns.countplot(x='rating', data=netflix_movies, palette='Set2',order=netflix_movies['rating'].value_counts().index[0:15])\n",
    "# print(netflix_movies['rating'].value_counts().index[0:15])\n",
    "# We can also map ratings with age groups, for eg. TV-MA for 18+ etc.\n",
    "rating_age_group = {\n",
    "    'TV-Y': 'All Ages',\n",
    "    'TV-G': 'All Ages',\n",
    "    'TV-Y7': '7+',\n",
    "    'TV-Y7-FV': '7+',\n",
    "    'G': 'All Ages',\n",
    "    'PG': '10+',\n",
    "    'TV-PG': '10+',\n",
    "    'PG-13': '13+',\n",
    "    'TV-14': '14+',\n",
    "    'R': '17+',\n",
    "    'TV-MA': '18+',\n",
    "    'NC-17': '18+',\n",
    "    'UR': 'Unrated',\n",
    "    'NR': 'Unrated'\n",
    "}\n",
    "\n",
    "netflix_movies['age_group'] = netflix_movies['rating'].map(rating_age_group)\n",
    "# Created a  new column for age groups,  mapping ratings with rating_age group ages\n",
    "ax2 = sns.countplot(x='age_group', data=netflix_movies, palette='Set2',order=netflix_movies['age_group'].value_counts().index[0:15])\n"
   ]
  },
  {
   "cell_type": "markdown",
   "id": "630c18f5-a419-4a7c-b3a5-0091c6ed631c",
   "metadata": {},
   "source": [
    "Most of the moveis are TV-MA rated which is not suitable for children under 18 years of age."
   ]
  },
  {
   "cell_type": "markdown",
   "id": "aacbe1c8-c6c6-4a0d-a62c-af2054e3eee5",
   "metadata": {},
   "source": [
    "### Top rated movies on Netflix\n",
    "For that we need IMDB Dataset and perform inner join wrt to netflix movies.\n",
    "\n",
    "\n",
    "Merging IMDB Datasets with our Netflix Dataset to Analyze top Rated movies/Series and top 10 in various categories!"
   ]
  },
  {
   "cell_type": "code",
   "execution_count": 10,
   "id": "07104e7f-2343-43a1-bd01-af2ca1c1a4d4",
   "metadata": {},
   "outputs": [
    {
     "name": "stdout",
     "output_type": "stream",
     "text": [
      "   Unnamed: 0 show_id     type                             title  \\\n",
      "0           0      s1    Movie              Dick Johnson Is Dead   \n",
      "1           1      s3  TV Show                         Ganglands   \n",
      "2           2      s4  TV Show             Jailbirds New Orleans   \n",
      "3           3      s7    Movie  My Little Pony: A New Generation   \n",
      "4           4      s8    Movie                           Sankofa   \n",
      "\n",
      "                        director  \\\n",
      "0                Kirsten Johnson   \n",
      "1                Julien Leclercq   \n",
      "2                            NaN   \n",
      "3  Robert Cullen, José Luis Ucha   \n",
      "4                   Haile Gerima   \n",
      "\n",
      "                                                cast  \\\n",
      "0                                                NaN   \n",
      "1  Sami Bouajila, Tracy Gotoas, Samuel Jouy, Nabi...   \n",
      "2                                                NaN   \n",
      "3  Vanessa Hudgens, Kimiko Glenn, James Marsden, ...   \n",
      "4  Kofi Ghanaba, Oyafunmike Ogunlano, Alexandra D...   \n",
      "\n",
      "                                             country          date_added  \\\n",
      "0                                      United States  September 25, 2021   \n",
      "1                                                NaN  September 24, 2021   \n",
      "2                                                NaN  September 24, 2021   \n",
      "3                                                NaN  September 24, 2021   \n",
      "4  United States, Ghana, Burkina Faso, United Kin...  September 24, 2021   \n",
      "\n",
      "   release_year rating  duration  \\\n",
      "0          2020  PG-13    90 min   \n",
      "1          2021  TV-MA  1 Season   \n",
      "2          2021  TV-MA  1 Season   \n",
      "3          2021     PG    91 min   \n",
      "4          1993  TV-MA   125 min   \n",
      "\n",
      "                                           listed_in  \\\n",
      "0                                      Documentaries   \n",
      "1  Crime TV Shows, International TV Shows, TV Act...   \n",
      "2                             Docuseries, Reality TV   \n",
      "3                           Children & Family Movies   \n",
      "4   Dramas, Independent Movies, International Movies   \n",
      "\n",
      "                                         description  \\\n",
      "0  As her father nears the end of his life, filmm...   \n",
      "1  To protect his family from a powerful drug lor...   \n",
      "2  Feuds, flirtations and toilet talk go down amo...   \n",
      "3  Equestria's divided. But a bright-eyed hero be...   \n",
      "4  On a photo shoot in Ghana, an American model s...   \n",
      "\n",
      "                        title_clean      tconst titleType  \\\n",
      "0              dick johnson is dead  tt11394180     movie   \n",
      "1                         ganglands  tt13278100  tvSeries   \n",
      "2             jailbirds new orleans  tt15320436  tvSeries   \n",
      "3  my little pony: a new generation  tt10101702     movie   \n",
      "4                           sankofa   tt0108041     movie   \n",
      "\n",
      "                       primaryTitle                     originalTitle  \\\n",
      "0              Dick Johnson Is Dead              Dick Johnson Is Dead   \n",
      "1                         Ganglands                         Braqueurs   \n",
      "2             Jailbirds New Orleans             Jailbirds New Orleans   \n",
      "3  My Little Pony: A New Generation  My Little Pony: A New Generation   \n",
      "4                           Sankofa                           Sankofa   \n",
      "\n",
      "   isAdult  startYear  endYear  runtimeMinutes                       genres  \\\n",
      "0      0.0     2020.0      NaN            89.0  Biography,Documentary,Drama   \n",
      "1      0.0     2021.0      NaN            44.0           Action,Crime,Drama   \n",
      "2      0.0     2021.0      NaN             NaN       Documentary,Reality-TV   \n",
      "3      0.0     2021.0      NaN            90.0   Adventure,Animation,Comedy   \n",
      "4      0.0     1993.0      NaN           125.0                        Drama   \n",
      "\n",
      "                 primaryTitle_clean  averageRating  numVotes  \n",
      "0              dick johnson is dead            7.4    7477.0  \n",
      "1                         ganglands            7.2    4827.0  \n",
      "2             jailbirds new orleans            6.5     329.0  \n",
      "3  my little pony: a new generation            6.8    4859.0  \n",
      "4                           sankofa            7.0     876.0  \n",
      "(5556, 26)\n"
     ]
    }
   ],
   "source": [
    "imdb_merged_data = pd.read_csv('merged_title_ratings_onNetflix.csv')\n",
    "imdb_merged_data = pd.DataFrame(imdb_merged_data)\n",
    "print(imdb_merged_data.head())\n",
    "print(imdb_merged_data.shape)"
   ]
  },
  {
   "cell_type": "markdown",
   "id": "d35b0b1e-84e7-4832-9e7c-ef837c2d0b17",
   "metadata": {},
   "source": [
    "After merging with the IMDB Dataset, we are left with 5556 rows and 26 columns which was (8807, 12) earlier."
   ]
  },
  {
   "cell_type": "code",
   "execution_count": 11,
   "id": "17d1f6ec-c49f-47d0-a658-0dd697146e77",
   "metadata": {},
   "outputs": [
    {
     "data": {
      "text/plain": [
       "Index(['Unnamed: 0', 'show_id', 'type', 'title', 'director', 'cast', 'country',\n",
       "       'date_added', 'release_year', 'rating', 'duration', 'listed_in',\n",
       "       'description', 'title_clean', 'tconst', 'titleType', 'primaryTitle',\n",
       "       'originalTitle', 'isAdult', 'startYear', 'endYear', 'runtimeMinutes',\n",
       "       'genres', 'primaryTitle_clean', 'averageRating', 'numVotes'],\n",
       "      dtype='object')"
      ]
     },
     "execution_count": 11,
     "metadata": {},
     "output_type": "execute_result"
    }
   ],
   "source": [
    "imdb_merged_data.columns"
   ]
  },
  {
   "cell_type": "markdown",
   "id": "84f50747-0fa8-4248-8852-b0720fd30162",
   "metadata": {},
   "source": [
    "### Top rated movies by IMDB Ratings"
   ]
  },
  {
   "cell_type": "code",
   "execution_count": 12,
   "id": "545df4f3-96c8-4de4-b7b8-5d6a36144362",
   "metadata": {},
   "outputs": [
    {
     "data": {
      "application/vnd.plotly.v1+json": {
       "config": {
        "plotlyServerURL": "https://plot.ly"
       },
       "data": [
        {
         "branchvalues": "total",
         "customdata": [
          [
           9
          ],
          [
           9.2
          ],
          [
           9.1
          ],
          [
           9
          ],
          [
           8.8
          ],
          [
           8.8
          ],
          [
           8.8
          ],
          [
           9
          ],
          [
           8.9
          ],
          [
           8.8
          ],
          [
           8.8
          ],
          [
           8.8
          ],
          [
           9.1
          ],
          [
           9
          ],
          [
           9.2
          ],
          [
           8.8
          ],
          [
           9
          ],
          [
           9
          ],
          [
           8.8
          ],
          [
           8.9
          ]
         ],
         "domain": {
          "x": [
           0,
           1
          ],
          "y": [
           0,
           1
          ]
         },
         "hovertemplate": "labels=%{label}<br>averageRating_sum=%{value}<br>parent=%{parent}<br>id=%{id}<br>averageRating=%{color}<extra></extra>",
         "ids": [
          "Mahabharat/India",
          "One/India",
          "Listen/Lebanon",
          "The Lord of the Rings: The Return of the King/New Zealand, United States",
          "The Lord of the Rings: The Two Towers/New Zealand, United States",
          "Hush/United States",
          "Pulp Fiction/United States",
          "Schindler's List/United States",
          "Welcome Home/United States",
          "Inception/United States, United Kingdom",
          "Hush",
          "Inception",
          "Listen",
          "Mahabharat",
          "One",
          "Pulp Fiction",
          "Schindler's List",
          "The Lord of the Rings: The Return of the King",
          "The Lord of the Rings: The Two Towers",
          "Welcome Home"
         ],
         "labels": [
          "India",
          "India",
          "Lebanon",
          "New Zealand, United States",
          "New Zealand, United States",
          "United States",
          "United States",
          "United States",
          "United States",
          "United States, United Kingdom",
          "Hush",
          "Inception",
          "Listen",
          "Mahabharat",
          "One",
          "Pulp Fiction",
          "Schindler's List",
          "The Lord of the Rings: The Return of the King",
          "The Lord of the Rings: The Two Towers",
          "Welcome Home"
         ],
         "marker": {
          "coloraxis": "coloraxis",
          "colors": [
           9,
           9.2,
           9.1,
           9,
           8.8,
           8.8,
           8.8,
           9,
           8.9,
           8.8,
           8.8,
           8.8,
           9.1,
           9,
           9.2,
           8.8,
           9,
           9,
           8.8,
           8.9
          ]
         },
         "name": "",
         "parents": [
          "Mahabharat",
          "One",
          "Listen",
          "The Lord of the Rings: The Return of the King",
          "The Lord of the Rings: The Two Towers",
          "Hush",
          "Pulp Fiction",
          "Schindler's List",
          "Welcome Home",
          "Inception",
          "",
          "",
          "",
          "",
          "",
          "",
          "",
          "",
          "",
          ""
         ],
         "type": "sunburst",
         "values": [
          9,
          9.2,
          9.1,
          9,
          8.8,
          8.8,
          8.8,
          9,
          8.9,
          8.8,
          8.8,
          8.8,
          9.1,
          9,
          9.2,
          8.8,
          9,
          9,
          8.8,
          8.9
         ]
        }
       ],
       "layout": {
        "coloraxis": {
         "colorbar": {
          "title": {
           "text": "averageRating"
          }
         },
         "colorscale": [
          [
           0,
           "rgb(165,0,38)"
          ],
          [
           0.1,
           "rgb(215,48,39)"
          ],
          [
           0.2,
           "rgb(244,109,67)"
          ],
          [
           0.3,
           "rgb(253,174,97)"
          ],
          [
           0.4,
           "rgb(254,224,139)"
          ],
          [
           0.5,
           "rgb(255,255,191)"
          ],
          [
           0.6,
           "rgb(217,239,139)"
          ],
          [
           0.7,
           "rgb(166,217,106)"
          ],
          [
           0.8,
           "rgb(102,189,99)"
          ],
          [
           0.9,
           "rgb(26,152,80)"
          ],
          [
           1,
           "rgb(0,104,55)"
          ]
         ]
        },
        "height": 800,
        "legend": {
         "tracegroupgap": 0
        },
        "template": {
         "data": {
          "bar": [
           {
            "error_x": {
             "color": "#2a3f5f"
            },
            "error_y": {
             "color": "#2a3f5f"
            },
            "marker": {
             "line": {
              "color": "#E5ECF6",
              "width": 0.5
             },
             "pattern": {
              "fillmode": "overlay",
              "size": 10,
              "solidity": 0.2
             }
            },
            "type": "bar"
           }
          ],
          "barpolar": [
           {
            "marker": {
             "line": {
              "color": "#E5ECF6",
              "width": 0.5
             },
             "pattern": {
              "fillmode": "overlay",
              "size": 10,
              "solidity": 0.2
             }
            },
            "type": "barpolar"
           }
          ],
          "carpet": [
           {
            "aaxis": {
             "endlinecolor": "#2a3f5f",
             "gridcolor": "white",
             "linecolor": "white",
             "minorgridcolor": "white",
             "startlinecolor": "#2a3f5f"
            },
            "baxis": {
             "endlinecolor": "#2a3f5f",
             "gridcolor": "white",
             "linecolor": "white",
             "minorgridcolor": "white",
             "startlinecolor": "#2a3f5f"
            },
            "type": "carpet"
           }
          ],
          "choropleth": [
           {
            "colorbar": {
             "outlinewidth": 0,
             "ticks": ""
            },
            "type": "choropleth"
           }
          ],
          "contour": [
           {
            "colorbar": {
             "outlinewidth": 0,
             "ticks": ""
            },
            "colorscale": [
             [
              0,
              "#0d0887"
             ],
             [
              0.1111111111111111,
              "#46039f"
             ],
             [
              0.2222222222222222,
              "#7201a8"
             ],
             [
              0.3333333333333333,
              "#9c179e"
             ],
             [
              0.4444444444444444,
              "#bd3786"
             ],
             [
              0.5555555555555556,
              "#d8576b"
             ],
             [
              0.6666666666666666,
              "#ed7953"
             ],
             [
              0.7777777777777778,
              "#fb9f3a"
             ],
             [
              0.8888888888888888,
              "#fdca26"
             ],
             [
              1,
              "#f0f921"
             ]
            ],
            "type": "contour"
           }
          ],
          "contourcarpet": [
           {
            "colorbar": {
             "outlinewidth": 0,
             "ticks": ""
            },
            "type": "contourcarpet"
           }
          ],
          "heatmap": [
           {
            "colorbar": {
             "outlinewidth": 0,
             "ticks": ""
            },
            "colorscale": [
             [
              0,
              "#0d0887"
             ],
             [
              0.1111111111111111,
              "#46039f"
             ],
             [
              0.2222222222222222,
              "#7201a8"
             ],
             [
              0.3333333333333333,
              "#9c179e"
             ],
             [
              0.4444444444444444,
              "#bd3786"
             ],
             [
              0.5555555555555556,
              "#d8576b"
             ],
             [
              0.6666666666666666,
              "#ed7953"
             ],
             [
              0.7777777777777778,
              "#fb9f3a"
             ],
             [
              0.8888888888888888,
              "#fdca26"
             ],
             [
              1,
              "#f0f921"
             ]
            ],
            "type": "heatmap"
           }
          ],
          "heatmapgl": [
           {
            "colorbar": {
             "outlinewidth": 0,
             "ticks": ""
            },
            "colorscale": [
             [
              0,
              "#0d0887"
             ],
             [
              0.1111111111111111,
              "#46039f"
             ],
             [
              0.2222222222222222,
              "#7201a8"
             ],
             [
              0.3333333333333333,
              "#9c179e"
             ],
             [
              0.4444444444444444,
              "#bd3786"
             ],
             [
              0.5555555555555556,
              "#d8576b"
             ],
             [
              0.6666666666666666,
              "#ed7953"
             ],
             [
              0.7777777777777778,
              "#fb9f3a"
             ],
             [
              0.8888888888888888,
              "#fdca26"
             ],
             [
              1,
              "#f0f921"
             ]
            ],
            "type": "heatmapgl"
           }
          ],
          "histogram": [
           {
            "marker": {
             "pattern": {
              "fillmode": "overlay",
              "size": 10,
              "solidity": 0.2
             }
            },
            "type": "histogram"
           }
          ],
          "histogram2d": [
           {
            "colorbar": {
             "outlinewidth": 0,
             "ticks": ""
            },
            "colorscale": [
             [
              0,
              "#0d0887"
             ],
             [
              0.1111111111111111,
              "#46039f"
             ],
             [
              0.2222222222222222,
              "#7201a8"
             ],
             [
              0.3333333333333333,
              "#9c179e"
             ],
             [
              0.4444444444444444,
              "#bd3786"
             ],
             [
              0.5555555555555556,
              "#d8576b"
             ],
             [
              0.6666666666666666,
              "#ed7953"
             ],
             [
              0.7777777777777778,
              "#fb9f3a"
             ],
             [
              0.8888888888888888,
              "#fdca26"
             ],
             [
              1,
              "#f0f921"
             ]
            ],
            "type": "histogram2d"
           }
          ],
          "histogram2dcontour": [
           {
            "colorbar": {
             "outlinewidth": 0,
             "ticks": ""
            },
            "colorscale": [
             [
              0,
              "#0d0887"
             ],
             [
              0.1111111111111111,
              "#46039f"
             ],
             [
              0.2222222222222222,
              "#7201a8"
             ],
             [
              0.3333333333333333,
              "#9c179e"
             ],
             [
              0.4444444444444444,
              "#bd3786"
             ],
             [
              0.5555555555555556,
              "#d8576b"
             ],
             [
              0.6666666666666666,
              "#ed7953"
             ],
             [
              0.7777777777777778,
              "#fb9f3a"
             ],
             [
              0.8888888888888888,
              "#fdca26"
             ],
             [
              1,
              "#f0f921"
             ]
            ],
            "type": "histogram2dcontour"
           }
          ],
          "mesh3d": [
           {
            "colorbar": {
             "outlinewidth": 0,
             "ticks": ""
            },
            "type": "mesh3d"
           }
          ],
          "parcoords": [
           {
            "line": {
             "colorbar": {
              "outlinewidth": 0,
              "ticks": ""
             }
            },
            "type": "parcoords"
           }
          ],
          "pie": [
           {
            "automargin": true,
            "type": "pie"
           }
          ],
          "scatter": [
           {
            "fillpattern": {
             "fillmode": "overlay",
             "size": 10,
             "solidity": 0.2
            },
            "type": "scatter"
           }
          ],
          "scatter3d": [
           {
            "line": {
             "colorbar": {
              "outlinewidth": 0,
              "ticks": ""
             }
            },
            "marker": {
             "colorbar": {
              "outlinewidth": 0,
              "ticks": ""
             }
            },
            "type": "scatter3d"
           }
          ],
          "scattercarpet": [
           {
            "marker": {
             "colorbar": {
              "outlinewidth": 0,
              "ticks": ""
             }
            },
            "type": "scattercarpet"
           }
          ],
          "scattergeo": [
           {
            "marker": {
             "colorbar": {
              "outlinewidth": 0,
              "ticks": ""
             }
            },
            "type": "scattergeo"
           }
          ],
          "scattergl": [
           {
            "marker": {
             "colorbar": {
              "outlinewidth": 0,
              "ticks": ""
             }
            },
            "type": "scattergl"
           }
          ],
          "scattermapbox": [
           {
            "marker": {
             "colorbar": {
              "outlinewidth": 0,
              "ticks": ""
             }
            },
            "type": "scattermapbox"
           }
          ],
          "scatterpolar": [
           {
            "marker": {
             "colorbar": {
              "outlinewidth": 0,
              "ticks": ""
             }
            },
            "type": "scatterpolar"
           }
          ],
          "scatterpolargl": [
           {
            "marker": {
             "colorbar": {
              "outlinewidth": 0,
              "ticks": ""
             }
            },
            "type": "scatterpolargl"
           }
          ],
          "scatterternary": [
           {
            "marker": {
             "colorbar": {
              "outlinewidth": 0,
              "ticks": ""
             }
            },
            "type": "scatterternary"
           }
          ],
          "surface": [
           {
            "colorbar": {
             "outlinewidth": 0,
             "ticks": ""
            },
            "colorscale": [
             [
              0,
              "#0d0887"
             ],
             [
              0.1111111111111111,
              "#46039f"
             ],
             [
              0.2222222222222222,
              "#7201a8"
             ],
             [
              0.3333333333333333,
              "#9c179e"
             ],
             [
              0.4444444444444444,
              "#bd3786"
             ],
             [
              0.5555555555555556,
              "#d8576b"
             ],
             [
              0.6666666666666666,
              "#ed7953"
             ],
             [
              0.7777777777777778,
              "#fb9f3a"
             ],
             [
              0.8888888888888888,
              "#fdca26"
             ],
             [
              1,
              "#f0f921"
             ]
            ],
            "type": "surface"
           }
          ],
          "table": [
           {
            "cells": {
             "fill": {
              "color": "#EBF0F8"
             },
             "line": {
              "color": "white"
             }
            },
            "header": {
             "fill": {
              "color": "#C8D4E3"
             },
             "line": {
              "color": "white"
             }
            },
            "type": "table"
           }
          ]
         },
         "layout": {
          "annotationdefaults": {
           "arrowcolor": "#2a3f5f",
           "arrowhead": 0,
           "arrowwidth": 1
          },
          "autotypenumbers": "strict",
          "coloraxis": {
           "colorbar": {
            "outlinewidth": 0,
            "ticks": ""
           }
          },
          "colorscale": {
           "diverging": [
            [
             0,
             "#8e0152"
            ],
            [
             0.1,
             "#c51b7d"
            ],
            [
             0.2,
             "#de77ae"
            ],
            [
             0.3,
             "#f1b6da"
            ],
            [
             0.4,
             "#fde0ef"
            ],
            [
             0.5,
             "#f7f7f7"
            ],
            [
             0.6,
             "#e6f5d0"
            ],
            [
             0.7,
             "#b8e186"
            ],
            [
             0.8,
             "#7fbc41"
            ],
            [
             0.9,
             "#4d9221"
            ],
            [
             1,
             "#276419"
            ]
           ],
           "sequential": [
            [
             0,
             "#0d0887"
            ],
            [
             0.1111111111111111,
             "#46039f"
            ],
            [
             0.2222222222222222,
             "#7201a8"
            ],
            [
             0.3333333333333333,
             "#9c179e"
            ],
            [
             0.4444444444444444,
             "#bd3786"
            ],
            [
             0.5555555555555556,
             "#d8576b"
            ],
            [
             0.6666666666666666,
             "#ed7953"
            ],
            [
             0.7777777777777778,
             "#fb9f3a"
            ],
            [
             0.8888888888888888,
             "#fdca26"
            ],
            [
             1,
             "#f0f921"
            ]
           ],
           "sequentialminus": [
            [
             0,
             "#0d0887"
            ],
            [
             0.1111111111111111,
             "#46039f"
            ],
            [
             0.2222222222222222,
             "#7201a8"
            ],
            [
             0.3333333333333333,
             "#9c179e"
            ],
            [
             0.4444444444444444,
             "#bd3786"
            ],
            [
             0.5555555555555556,
             "#d8576b"
            ],
            [
             0.6666666666666666,
             "#ed7953"
            ],
            [
             0.7777777777777778,
             "#fb9f3a"
            ],
            [
             0.8888888888888888,
             "#fdca26"
            ],
            [
             1,
             "#f0f921"
            ]
           ]
          },
          "colorway": [
           "#636efa",
           "#EF553B",
           "#00cc96",
           "#ab63fa",
           "#FFA15A",
           "#19d3f3",
           "#FF6692",
           "#B6E880",
           "#FF97FF",
           "#FECB52"
          ],
          "font": {
           "color": "#2a3f5f"
          },
          "geo": {
           "bgcolor": "white",
           "lakecolor": "white",
           "landcolor": "#E5ECF6",
           "showlakes": true,
           "showland": true,
           "subunitcolor": "white"
          },
          "hoverlabel": {
           "align": "left"
          },
          "hovermode": "closest",
          "mapbox": {
           "style": "light"
          },
          "paper_bgcolor": "white",
          "plot_bgcolor": "#E5ECF6",
          "polar": {
           "angularaxis": {
            "gridcolor": "white",
            "linecolor": "white",
            "ticks": ""
           },
           "bgcolor": "#E5ECF6",
           "radialaxis": {
            "gridcolor": "white",
            "linecolor": "white",
            "ticks": ""
           }
          },
          "scene": {
           "xaxis": {
            "backgroundcolor": "#E5ECF6",
            "gridcolor": "white",
            "gridwidth": 2,
            "linecolor": "white",
            "showbackground": true,
            "ticks": "",
            "zerolinecolor": "white"
           },
           "yaxis": {
            "backgroundcolor": "#E5ECF6",
            "gridcolor": "white",
            "gridwidth": 2,
            "linecolor": "white",
            "showbackground": true,
            "ticks": "",
            "zerolinecolor": "white"
           },
           "zaxis": {
            "backgroundcolor": "#E5ECF6",
            "gridcolor": "white",
            "gridwidth": 2,
            "linecolor": "white",
            "showbackground": true,
            "ticks": "",
            "zerolinecolor": "white"
           }
          },
          "shapedefaults": {
           "line": {
            "color": "#2a3f5f"
           }
          },
          "ternary": {
           "aaxis": {
            "gridcolor": "white",
            "linecolor": "white",
            "ticks": ""
           },
           "baxis": {
            "gridcolor": "white",
            "linecolor": "white",
            "ticks": ""
           },
           "bgcolor": "#E5ECF6",
           "caxis": {
            "gridcolor": "white",
            "linecolor": "white",
            "ticks": ""
           }
          },
          "title": {
           "x": 0.05
          },
          "xaxis": {
           "automargin": true,
           "gridcolor": "white",
           "linecolor": "white",
           "ticks": "",
           "title": {
            "standoff": 15
           },
           "zerolinecolor": "white",
           "zerolinewidth": 2
          },
          "yaxis": {
           "automargin": true,
           "gridcolor": "white",
           "linecolor": "white",
           "ticks": "",
           "title": {
            "standoff": 15
           },
           "zerolinecolor": "white",
           "zerolinewidth": 2
          }
         }
        },
        "title": {
         "text": "Top Rated Netflix Titles by Country"
        },
        "width": 1000
       }
      }
     },
     "metadata": {},
     "output_type": "display_data"
    }
   ],
   "source": [
    "# top rated movies on netflix, sorted by average ratings in IMDB\n",
    "top_rated_movies = imdb_merged_data[imdb_merged_data['type'] == 'Movie'].sort_values(by='averageRating',ascending=False)[0:10]\n",
    "\n",
    "# print(top_rated_movies)\n",
    "\n",
    "fig = px.sunburst(top_rated_movies,\n",
    "                  path = ['title', 'country'],\n",
    "                  values='averageRating',\n",
    "                  color_continuous_scale='RdYlGn',\n",
    "                  color='averageRating',\n",
    "                  title='Top Rated Netflix Titles by Country',\n",
    "                  width=1000,    # 📏 Set width in pixels\n",
    "                  height=800)\n",
    "fig.show()\n",
    "pio.write_image(fig, file='TopRatedNetflixTitlesByCountry.png' )\n",
    "                  "
   ]
  },
  {
   "cell_type": "markdown",
   "id": "ec83a130-509b-44af-b327-122044b6ed1d",
   "metadata": {},
   "source": [
    "![Stacked Funnel](./TopRatedNetflixTitlesByCountry.png)"
   ]
  },
  {
   "cell_type": "markdown",
   "id": "aa79f9f2-8365-4ab6-b30d-5752b958a34f",
   "metadata": {},
   "source": [
    "Countries with Highest rated content"
   ]
  },
  {
   "cell_type": "code",
   "execution_count": 13,
   "id": "131ea8da-800c-4d08-be52-f29127914af5",
   "metadata": {},
   "outputs": [
    {
     "name": "stdout",
     "output_type": "stream",
     "text": [
      "Top Countries\n",
      "                count\n",
      "country              \n",
      "United States    1716\n",
      "India             795\n",
      "United Kingdom    186\n",
      "South Korea       154\n",
      "Japan             119\n",
      "Canada             88\n",
      "Nigeria            85\n",
      "Spain              82\n",
      "France             77\n",
      "Egypt              75\n"
     ]
    }
   ],
   "source": [
    "# Countries with highest rated content.\n",
    "country_count = imdb_merged_data['country'].value_counts().sort_values(ascending=False)\n",
    "country_count = pd.DataFrame(country_count)\n",
    "print(\"Top Countries\")\n",
    "print(country_count.head(10))\n",
    "country_count.reset_index(inplace=True)"
   ]
  },
  {
   "cell_type": "markdown",
   "id": "6fe3e111-41b6-403d-8102-2d2810758977",
   "metadata": {},
   "source": [
    "### Funnel chart showing number of movies in the dataset by country"
   ]
  },
  {
   "cell_type": "code",
   "execution_count": 14,
   "id": "93c26024-23cb-4d74-8893-2ef90124abb7",
   "metadata": {},
   "outputs": [
    {
     "data": {
      "application/vnd.plotly.v1+json": {
       "config": {
        "plotlyServerURL": "https://plot.ly"
       },
       "data": [
        {
         "hovertemplate": "count=%{x}<br>country=%{y}<extra></extra>",
         "legendgroup": "",
         "marker": {
          "color": "#636efa"
         },
         "name": "",
         "orientation": "h",
         "showlegend": false,
         "type": "funnel",
         "x": [
          1716,
          795,
          186,
          154,
          119,
          88,
          85,
          82,
          77,
          75
         ],
         "xaxis": "x",
         "y": [
          "United States",
          "India",
          "United Kingdom",
          "South Korea",
          "Japan",
          "Canada",
          "Nigeria",
          "Spain",
          "France",
          "Egypt"
         ],
         "yaxis": "y"
        }
       ],
       "layout": {
        "height": 1000,
        "legend": {
         "tracegroupgap": 0
        },
        "margin": {
         "t": 60
        },
        "template": {
         "data": {
          "bar": [
           {
            "error_x": {
             "color": "#2a3f5f"
            },
            "error_y": {
             "color": "#2a3f5f"
            },
            "marker": {
             "line": {
              "color": "#E5ECF6",
              "width": 0.5
             },
             "pattern": {
              "fillmode": "overlay",
              "size": 10,
              "solidity": 0.2
             }
            },
            "type": "bar"
           }
          ],
          "barpolar": [
           {
            "marker": {
             "line": {
              "color": "#E5ECF6",
              "width": 0.5
             },
             "pattern": {
              "fillmode": "overlay",
              "size": 10,
              "solidity": 0.2
             }
            },
            "type": "barpolar"
           }
          ],
          "carpet": [
           {
            "aaxis": {
             "endlinecolor": "#2a3f5f",
             "gridcolor": "white",
             "linecolor": "white",
             "minorgridcolor": "white",
             "startlinecolor": "#2a3f5f"
            },
            "baxis": {
             "endlinecolor": "#2a3f5f",
             "gridcolor": "white",
             "linecolor": "white",
             "minorgridcolor": "white",
             "startlinecolor": "#2a3f5f"
            },
            "type": "carpet"
           }
          ],
          "choropleth": [
           {
            "colorbar": {
             "outlinewidth": 0,
             "ticks": ""
            },
            "type": "choropleth"
           }
          ],
          "contour": [
           {
            "colorbar": {
             "outlinewidth": 0,
             "ticks": ""
            },
            "colorscale": [
             [
              0,
              "#0d0887"
             ],
             [
              0.1111111111111111,
              "#46039f"
             ],
             [
              0.2222222222222222,
              "#7201a8"
             ],
             [
              0.3333333333333333,
              "#9c179e"
             ],
             [
              0.4444444444444444,
              "#bd3786"
             ],
             [
              0.5555555555555556,
              "#d8576b"
             ],
             [
              0.6666666666666666,
              "#ed7953"
             ],
             [
              0.7777777777777778,
              "#fb9f3a"
             ],
             [
              0.8888888888888888,
              "#fdca26"
             ],
             [
              1,
              "#f0f921"
             ]
            ],
            "type": "contour"
           }
          ],
          "contourcarpet": [
           {
            "colorbar": {
             "outlinewidth": 0,
             "ticks": ""
            },
            "type": "contourcarpet"
           }
          ],
          "heatmap": [
           {
            "colorbar": {
             "outlinewidth": 0,
             "ticks": ""
            },
            "colorscale": [
             [
              0,
              "#0d0887"
             ],
             [
              0.1111111111111111,
              "#46039f"
             ],
             [
              0.2222222222222222,
              "#7201a8"
             ],
             [
              0.3333333333333333,
              "#9c179e"
             ],
             [
              0.4444444444444444,
              "#bd3786"
             ],
             [
              0.5555555555555556,
              "#d8576b"
             ],
             [
              0.6666666666666666,
              "#ed7953"
             ],
             [
              0.7777777777777778,
              "#fb9f3a"
             ],
             [
              0.8888888888888888,
              "#fdca26"
             ],
             [
              1,
              "#f0f921"
             ]
            ],
            "type": "heatmap"
           }
          ],
          "heatmapgl": [
           {
            "colorbar": {
             "outlinewidth": 0,
             "ticks": ""
            },
            "colorscale": [
             [
              0,
              "#0d0887"
             ],
             [
              0.1111111111111111,
              "#46039f"
             ],
             [
              0.2222222222222222,
              "#7201a8"
             ],
             [
              0.3333333333333333,
              "#9c179e"
             ],
             [
              0.4444444444444444,
              "#bd3786"
             ],
             [
              0.5555555555555556,
              "#d8576b"
             ],
             [
              0.6666666666666666,
              "#ed7953"
             ],
             [
              0.7777777777777778,
              "#fb9f3a"
             ],
             [
              0.8888888888888888,
              "#fdca26"
             ],
             [
              1,
              "#f0f921"
             ]
            ],
            "type": "heatmapgl"
           }
          ],
          "histogram": [
           {
            "marker": {
             "pattern": {
              "fillmode": "overlay",
              "size": 10,
              "solidity": 0.2
             }
            },
            "type": "histogram"
           }
          ],
          "histogram2d": [
           {
            "colorbar": {
             "outlinewidth": 0,
             "ticks": ""
            },
            "colorscale": [
             [
              0,
              "#0d0887"
             ],
             [
              0.1111111111111111,
              "#46039f"
             ],
             [
              0.2222222222222222,
              "#7201a8"
             ],
             [
              0.3333333333333333,
              "#9c179e"
             ],
             [
              0.4444444444444444,
              "#bd3786"
             ],
             [
              0.5555555555555556,
              "#d8576b"
             ],
             [
              0.6666666666666666,
              "#ed7953"
             ],
             [
              0.7777777777777778,
              "#fb9f3a"
             ],
             [
              0.8888888888888888,
              "#fdca26"
             ],
             [
              1,
              "#f0f921"
             ]
            ],
            "type": "histogram2d"
           }
          ],
          "histogram2dcontour": [
           {
            "colorbar": {
             "outlinewidth": 0,
             "ticks": ""
            },
            "colorscale": [
             [
              0,
              "#0d0887"
             ],
             [
              0.1111111111111111,
              "#46039f"
             ],
             [
              0.2222222222222222,
              "#7201a8"
             ],
             [
              0.3333333333333333,
              "#9c179e"
             ],
             [
              0.4444444444444444,
              "#bd3786"
             ],
             [
              0.5555555555555556,
              "#d8576b"
             ],
             [
              0.6666666666666666,
              "#ed7953"
             ],
             [
              0.7777777777777778,
              "#fb9f3a"
             ],
             [
              0.8888888888888888,
              "#fdca26"
             ],
             [
              1,
              "#f0f921"
             ]
            ],
            "type": "histogram2dcontour"
           }
          ],
          "mesh3d": [
           {
            "colorbar": {
             "outlinewidth": 0,
             "ticks": ""
            },
            "type": "mesh3d"
           }
          ],
          "parcoords": [
           {
            "line": {
             "colorbar": {
              "outlinewidth": 0,
              "ticks": ""
             }
            },
            "type": "parcoords"
           }
          ],
          "pie": [
           {
            "automargin": true,
            "type": "pie"
           }
          ],
          "scatter": [
           {
            "fillpattern": {
             "fillmode": "overlay",
             "size": 10,
             "solidity": 0.2
            },
            "type": "scatter"
           }
          ],
          "scatter3d": [
           {
            "line": {
             "colorbar": {
              "outlinewidth": 0,
              "ticks": ""
             }
            },
            "marker": {
             "colorbar": {
              "outlinewidth": 0,
              "ticks": ""
             }
            },
            "type": "scatter3d"
           }
          ],
          "scattercarpet": [
           {
            "marker": {
             "colorbar": {
              "outlinewidth": 0,
              "ticks": ""
             }
            },
            "type": "scattercarpet"
           }
          ],
          "scattergeo": [
           {
            "marker": {
             "colorbar": {
              "outlinewidth": 0,
              "ticks": ""
             }
            },
            "type": "scattergeo"
           }
          ],
          "scattergl": [
           {
            "marker": {
             "colorbar": {
              "outlinewidth": 0,
              "ticks": ""
             }
            },
            "type": "scattergl"
           }
          ],
          "scattermapbox": [
           {
            "marker": {
             "colorbar": {
              "outlinewidth": 0,
              "ticks": ""
             }
            },
            "type": "scattermapbox"
           }
          ],
          "scatterpolar": [
           {
            "marker": {
             "colorbar": {
              "outlinewidth": 0,
              "ticks": ""
             }
            },
            "type": "scatterpolar"
           }
          ],
          "scatterpolargl": [
           {
            "marker": {
             "colorbar": {
              "outlinewidth": 0,
              "ticks": ""
             }
            },
            "type": "scatterpolargl"
           }
          ],
          "scatterternary": [
           {
            "marker": {
             "colorbar": {
              "outlinewidth": 0,
              "ticks": ""
             }
            },
            "type": "scatterternary"
           }
          ],
          "surface": [
           {
            "colorbar": {
             "outlinewidth": 0,
             "ticks": ""
            },
            "colorscale": [
             [
              0,
              "#0d0887"
             ],
             [
              0.1111111111111111,
              "#46039f"
             ],
             [
              0.2222222222222222,
              "#7201a8"
             ],
             [
              0.3333333333333333,
              "#9c179e"
             ],
             [
              0.4444444444444444,
              "#bd3786"
             ],
             [
              0.5555555555555556,
              "#d8576b"
             ],
             [
              0.6666666666666666,
              "#ed7953"
             ],
             [
              0.7777777777777778,
              "#fb9f3a"
             ],
             [
              0.8888888888888888,
              "#fdca26"
             ],
             [
              1,
              "#f0f921"
             ]
            ],
            "type": "surface"
           }
          ],
          "table": [
           {
            "cells": {
             "fill": {
              "color": "#EBF0F8"
             },
             "line": {
              "color": "white"
             }
            },
            "header": {
             "fill": {
              "color": "#C8D4E3"
             },
             "line": {
              "color": "white"
             }
            },
            "type": "table"
           }
          ]
         },
         "layout": {
          "annotationdefaults": {
           "arrowcolor": "#2a3f5f",
           "arrowhead": 0,
           "arrowwidth": 1
          },
          "autotypenumbers": "strict",
          "coloraxis": {
           "colorbar": {
            "outlinewidth": 0,
            "ticks": ""
           }
          },
          "colorscale": {
           "diverging": [
            [
             0,
             "#8e0152"
            ],
            [
             0.1,
             "#c51b7d"
            ],
            [
             0.2,
             "#de77ae"
            ],
            [
             0.3,
             "#f1b6da"
            ],
            [
             0.4,
             "#fde0ef"
            ],
            [
             0.5,
             "#f7f7f7"
            ],
            [
             0.6,
             "#e6f5d0"
            ],
            [
             0.7,
             "#b8e186"
            ],
            [
             0.8,
             "#7fbc41"
            ],
            [
             0.9,
             "#4d9221"
            ],
            [
             1,
             "#276419"
            ]
           ],
           "sequential": [
            [
             0,
             "#0d0887"
            ],
            [
             0.1111111111111111,
             "#46039f"
            ],
            [
             0.2222222222222222,
             "#7201a8"
            ],
            [
             0.3333333333333333,
             "#9c179e"
            ],
            [
             0.4444444444444444,
             "#bd3786"
            ],
            [
             0.5555555555555556,
             "#d8576b"
            ],
            [
             0.6666666666666666,
             "#ed7953"
            ],
            [
             0.7777777777777778,
             "#fb9f3a"
            ],
            [
             0.8888888888888888,
             "#fdca26"
            ],
            [
             1,
             "#f0f921"
            ]
           ],
           "sequentialminus": [
            [
             0,
             "#0d0887"
            ],
            [
             0.1111111111111111,
             "#46039f"
            ],
            [
             0.2222222222222222,
             "#7201a8"
            ],
            [
             0.3333333333333333,
             "#9c179e"
            ],
            [
             0.4444444444444444,
             "#bd3786"
            ],
            [
             0.5555555555555556,
             "#d8576b"
            ],
            [
             0.6666666666666666,
             "#ed7953"
            ],
            [
             0.7777777777777778,
             "#fb9f3a"
            ],
            [
             0.8888888888888888,
             "#fdca26"
            ],
            [
             1,
             "#f0f921"
            ]
           ]
          },
          "colorway": [
           "#636efa",
           "#EF553B",
           "#00cc96",
           "#ab63fa",
           "#FFA15A",
           "#19d3f3",
           "#FF6692",
           "#B6E880",
           "#FF97FF",
           "#FECB52"
          ],
          "font": {
           "color": "#2a3f5f"
          },
          "geo": {
           "bgcolor": "white",
           "lakecolor": "white",
           "landcolor": "#E5ECF6",
           "showlakes": true,
           "showland": true,
           "subunitcolor": "white"
          },
          "hoverlabel": {
           "align": "left"
          },
          "hovermode": "closest",
          "mapbox": {
           "style": "light"
          },
          "paper_bgcolor": "white",
          "plot_bgcolor": "#E5ECF6",
          "polar": {
           "angularaxis": {
            "gridcolor": "white",
            "linecolor": "white",
            "ticks": ""
           },
           "bgcolor": "#E5ECF6",
           "radialaxis": {
            "gridcolor": "white",
            "linecolor": "white",
            "ticks": ""
           }
          },
          "scene": {
           "xaxis": {
            "backgroundcolor": "#E5ECF6",
            "gridcolor": "white",
            "gridwidth": 2,
            "linecolor": "white",
            "showbackground": true,
            "ticks": "",
            "zerolinecolor": "white"
           },
           "yaxis": {
            "backgroundcolor": "#E5ECF6",
            "gridcolor": "white",
            "gridwidth": 2,
            "linecolor": "white",
            "showbackground": true,
            "ticks": "",
            "zerolinecolor": "white"
           },
           "zaxis": {
            "backgroundcolor": "#E5ECF6",
            "gridcolor": "white",
            "gridwidth": 2,
            "linecolor": "white",
            "showbackground": true,
            "ticks": "",
            "zerolinecolor": "white"
           }
          },
          "shapedefaults": {
           "line": {
            "color": "#2a3f5f"
           }
          },
          "ternary": {
           "aaxis": {
            "gridcolor": "white",
            "linecolor": "white",
            "ticks": ""
           },
           "baxis": {
            "gridcolor": "white",
            "linecolor": "white",
            "ticks": ""
           },
           "bgcolor": "#E5ECF6",
           "caxis": {
            "gridcolor": "white",
            "linecolor": "white",
            "ticks": ""
           }
          },
          "title": {
           "x": 0.05
          },
          "xaxis": {
           "automargin": true,
           "gridcolor": "white",
           "linecolor": "white",
           "ticks": "",
           "title": {
            "standoff": 15
           },
           "zerolinecolor": "white",
           "zerolinewidth": 2
          },
          "yaxis": {
           "automargin": true,
           "gridcolor": "white",
           "linecolor": "white",
           "ticks": "",
           "title": {
            "standoff": 15
           },
           "zerolinecolor": "white",
           "zerolinewidth": 2
          }
         }
        },
        "width": 1000,
        "xaxis": {
         "anchor": "y",
         "domain": [
          0,
          1
         ],
         "title": {
          "text": "count"
         }
        },
        "yaxis": {
         "anchor": "x",
         "domain": [
          0,
          1
         ],
         "title": {
          "text": "country"
         }
        }
       }
      }
     },
     "metadata": {},
     "output_type": "display_data"
    }
   ],
   "source": [
    "fig = px.funnel(country_count[0:10], \n",
    "                x='count',\n",
    "                y='country',\n",
    "               height=1000,\n",
    "               width=1000,\n",
    "               )\n",
    "fig.show()\n",
    "pio.write_image(fig, file='MoviesByCountry.png' )\n",
    "                  "
   ]
  },
  {
   "cell_type": "markdown",
   "id": "a4024624-e733-48ab-9782-dfda13dadf42",
   "metadata": {},
   "source": [
    "### We can also stack multiple Funnel charts in one figure\n",
    "Taking count of movies and series by country as our new dataframe"
   ]
  },
  {
   "cell_type": "code",
   "execution_count": 15,
   "id": "81f07ffb-49b3-4778-955d-25cf7ec9ec88",
   "metadata": {},
   "outputs": [
    {
     "name": "stdout",
     "output_type": "stream",
     "text": [
      "type                        country   Movie  TV Show   Total\n",
      "0                     United States  1433.0    283.0  1716.0\n",
      "1                             India   740.0     55.0   795.0\n",
      "2                           Unknown   162.0    163.0   325.0\n",
      "3                    United Kingdom   119.0     67.0   186.0\n",
      "4                           Nigeria    82.0      3.0    85.0\n",
      "5                            Canada    75.0     13.0    88.0\n",
      "6                       Philippines    69.0      1.0    70.0\n",
      "7                             Spain    67.0     15.0    82.0\n",
      "8                             Egypt    67.0      8.0    75.0\n",
      "9     United Kingdom, United States    60.0      2.0    62.0\n"
     ]
    }
   ],
   "source": [
    "# Filtering relevant columns\n",
    "country_type_count = imdb_merged_data[['country', 'type']].copy()\n",
    "\n",
    "country_type_count['country'] = country_type_count['country'].fillna(\"Unknown\")\n",
    "\n",
    "country_type_count = country_type_count.groupby(['country','type']).size().reset_index(name='count')\n",
    "# country_type_count.sort_values(by='count', ascending=False).head(15)\n",
    "\n",
    "pivot = country_type_count.pivot(index='country', columns='type', values='count').fillna(0)\n",
    "\n",
    "pivot_df = pivot.sort_values(by=['Movie','TV Show'], ascending=False)\n",
    "pivot_df = pivot_df.reset_index()\n",
    "\n",
    "\n",
    "pivot_df['Total'] = pivot_df['Movie'] + pivot_df['TV Show'] \n",
    "pivot_df.head()\n",
    "\n",
    "top_10  = pivot_df[0:10]\n",
    "print(top_10)"
   ]
  },
  {
   "cell_type": "code",
   "execution_count": 16,
   "id": "37bfc4a0-85d4-4a8a-82d3-f76c65748314",
   "metadata": {},
   "outputs": [
    {
     "name": "stdout",
     "output_type": "stream",
     "text": [
      "Requirement already satisfied: kaleido in c:\\users\\dhruv_yadav\\appdata\\local\\anaconda3\\envs\\main\\lib\\site-packages (0.2.1)\n"
     ]
    },
    {
     "data": {
      "application/vnd.plotly.v1+json": {
       "config": {
        "plotlyServerURL": "https://plot.ly"
       },
       "data": [
        {
         "marker": {
          "color": "teal"
         },
         "name": "Movies",
         "type": "funnel",
         "x": [
          1433,
          740,
          162,
          119,
          82,
          75,
          69,
          67,
          67,
          60
         ],
         "y": [
          "United States",
          "India",
          "Unknown",
          "United Kingdom",
          "Nigeria",
          "Canada",
          "Philippines",
          "Spain",
          "Egypt",
          "United Kingdom, United States"
         ]
        },
        {
         "marker": {
          "color": "orange"
         },
         "name": "TV Shows",
         "type": "funnel",
         "x": [
          283,
          55,
          163,
          67,
          3,
          13,
          1,
          15,
          8,
          2
         ],
         "y": [
          "United States",
          "India",
          "Unknown",
          "United Kingdom",
          "Nigeria",
          "Canada",
          "Philippines",
          "Spain",
          "Egypt",
          "United Kingdom, United States"
         ]
        }
       ],
       "layout": {
        "funnelmode": "stack",
        "template": {
         "data": {
          "bar": [
           {
            "error_x": {
             "color": "#2a3f5f"
            },
            "error_y": {
             "color": "#2a3f5f"
            },
            "marker": {
             "line": {
              "color": "#E5ECF6",
              "width": 0.5
             },
             "pattern": {
              "fillmode": "overlay",
              "size": 10,
              "solidity": 0.2
             }
            },
            "type": "bar"
           }
          ],
          "barpolar": [
           {
            "marker": {
             "line": {
              "color": "#E5ECF6",
              "width": 0.5
             },
             "pattern": {
              "fillmode": "overlay",
              "size": 10,
              "solidity": 0.2
             }
            },
            "type": "barpolar"
           }
          ],
          "carpet": [
           {
            "aaxis": {
             "endlinecolor": "#2a3f5f",
             "gridcolor": "white",
             "linecolor": "white",
             "minorgridcolor": "white",
             "startlinecolor": "#2a3f5f"
            },
            "baxis": {
             "endlinecolor": "#2a3f5f",
             "gridcolor": "white",
             "linecolor": "white",
             "minorgridcolor": "white",
             "startlinecolor": "#2a3f5f"
            },
            "type": "carpet"
           }
          ],
          "choropleth": [
           {
            "colorbar": {
             "outlinewidth": 0,
             "ticks": ""
            },
            "type": "choropleth"
           }
          ],
          "contour": [
           {
            "colorbar": {
             "outlinewidth": 0,
             "ticks": ""
            },
            "colorscale": [
             [
              0,
              "#0d0887"
             ],
             [
              0.1111111111111111,
              "#46039f"
             ],
             [
              0.2222222222222222,
              "#7201a8"
             ],
             [
              0.3333333333333333,
              "#9c179e"
             ],
             [
              0.4444444444444444,
              "#bd3786"
             ],
             [
              0.5555555555555556,
              "#d8576b"
             ],
             [
              0.6666666666666666,
              "#ed7953"
             ],
             [
              0.7777777777777778,
              "#fb9f3a"
             ],
             [
              0.8888888888888888,
              "#fdca26"
             ],
             [
              1,
              "#f0f921"
             ]
            ],
            "type": "contour"
           }
          ],
          "contourcarpet": [
           {
            "colorbar": {
             "outlinewidth": 0,
             "ticks": ""
            },
            "type": "contourcarpet"
           }
          ],
          "heatmap": [
           {
            "colorbar": {
             "outlinewidth": 0,
             "ticks": ""
            },
            "colorscale": [
             [
              0,
              "#0d0887"
             ],
             [
              0.1111111111111111,
              "#46039f"
             ],
             [
              0.2222222222222222,
              "#7201a8"
             ],
             [
              0.3333333333333333,
              "#9c179e"
             ],
             [
              0.4444444444444444,
              "#bd3786"
             ],
             [
              0.5555555555555556,
              "#d8576b"
             ],
             [
              0.6666666666666666,
              "#ed7953"
             ],
             [
              0.7777777777777778,
              "#fb9f3a"
             ],
             [
              0.8888888888888888,
              "#fdca26"
             ],
             [
              1,
              "#f0f921"
             ]
            ],
            "type": "heatmap"
           }
          ],
          "heatmapgl": [
           {
            "colorbar": {
             "outlinewidth": 0,
             "ticks": ""
            },
            "colorscale": [
             [
              0,
              "#0d0887"
             ],
             [
              0.1111111111111111,
              "#46039f"
             ],
             [
              0.2222222222222222,
              "#7201a8"
             ],
             [
              0.3333333333333333,
              "#9c179e"
             ],
             [
              0.4444444444444444,
              "#bd3786"
             ],
             [
              0.5555555555555556,
              "#d8576b"
             ],
             [
              0.6666666666666666,
              "#ed7953"
             ],
             [
              0.7777777777777778,
              "#fb9f3a"
             ],
             [
              0.8888888888888888,
              "#fdca26"
             ],
             [
              1,
              "#f0f921"
             ]
            ],
            "type": "heatmapgl"
           }
          ],
          "histogram": [
           {
            "marker": {
             "pattern": {
              "fillmode": "overlay",
              "size": 10,
              "solidity": 0.2
             }
            },
            "type": "histogram"
           }
          ],
          "histogram2d": [
           {
            "colorbar": {
             "outlinewidth": 0,
             "ticks": ""
            },
            "colorscale": [
             [
              0,
              "#0d0887"
             ],
             [
              0.1111111111111111,
              "#46039f"
             ],
             [
              0.2222222222222222,
              "#7201a8"
             ],
             [
              0.3333333333333333,
              "#9c179e"
             ],
             [
              0.4444444444444444,
              "#bd3786"
             ],
             [
              0.5555555555555556,
              "#d8576b"
             ],
             [
              0.6666666666666666,
              "#ed7953"
             ],
             [
              0.7777777777777778,
              "#fb9f3a"
             ],
             [
              0.8888888888888888,
              "#fdca26"
             ],
             [
              1,
              "#f0f921"
             ]
            ],
            "type": "histogram2d"
           }
          ],
          "histogram2dcontour": [
           {
            "colorbar": {
             "outlinewidth": 0,
             "ticks": ""
            },
            "colorscale": [
             [
              0,
              "#0d0887"
             ],
             [
              0.1111111111111111,
              "#46039f"
             ],
             [
              0.2222222222222222,
              "#7201a8"
             ],
             [
              0.3333333333333333,
              "#9c179e"
             ],
             [
              0.4444444444444444,
              "#bd3786"
             ],
             [
              0.5555555555555556,
              "#d8576b"
             ],
             [
              0.6666666666666666,
              "#ed7953"
             ],
             [
              0.7777777777777778,
              "#fb9f3a"
             ],
             [
              0.8888888888888888,
              "#fdca26"
             ],
             [
              1,
              "#f0f921"
             ]
            ],
            "type": "histogram2dcontour"
           }
          ],
          "mesh3d": [
           {
            "colorbar": {
             "outlinewidth": 0,
             "ticks": ""
            },
            "type": "mesh3d"
           }
          ],
          "parcoords": [
           {
            "line": {
             "colorbar": {
              "outlinewidth": 0,
              "ticks": ""
             }
            },
            "type": "parcoords"
           }
          ],
          "pie": [
           {
            "automargin": true,
            "type": "pie"
           }
          ],
          "scatter": [
           {
            "fillpattern": {
             "fillmode": "overlay",
             "size": 10,
             "solidity": 0.2
            },
            "type": "scatter"
           }
          ],
          "scatter3d": [
           {
            "line": {
             "colorbar": {
              "outlinewidth": 0,
              "ticks": ""
             }
            },
            "marker": {
             "colorbar": {
              "outlinewidth": 0,
              "ticks": ""
             }
            },
            "type": "scatter3d"
           }
          ],
          "scattercarpet": [
           {
            "marker": {
             "colorbar": {
              "outlinewidth": 0,
              "ticks": ""
             }
            },
            "type": "scattercarpet"
           }
          ],
          "scattergeo": [
           {
            "marker": {
             "colorbar": {
              "outlinewidth": 0,
              "ticks": ""
             }
            },
            "type": "scattergeo"
           }
          ],
          "scattergl": [
           {
            "marker": {
             "colorbar": {
              "outlinewidth": 0,
              "ticks": ""
             }
            },
            "type": "scattergl"
           }
          ],
          "scattermapbox": [
           {
            "marker": {
             "colorbar": {
              "outlinewidth": 0,
              "ticks": ""
             }
            },
            "type": "scattermapbox"
           }
          ],
          "scatterpolar": [
           {
            "marker": {
             "colorbar": {
              "outlinewidth": 0,
              "ticks": ""
             }
            },
            "type": "scatterpolar"
           }
          ],
          "scatterpolargl": [
           {
            "marker": {
             "colorbar": {
              "outlinewidth": 0,
              "ticks": ""
             }
            },
            "type": "scatterpolargl"
           }
          ],
          "scatterternary": [
           {
            "marker": {
             "colorbar": {
              "outlinewidth": 0,
              "ticks": ""
             }
            },
            "type": "scatterternary"
           }
          ],
          "surface": [
           {
            "colorbar": {
             "outlinewidth": 0,
             "ticks": ""
            },
            "colorscale": [
             [
              0,
              "#0d0887"
             ],
             [
              0.1111111111111111,
              "#46039f"
             ],
             [
              0.2222222222222222,
              "#7201a8"
             ],
             [
              0.3333333333333333,
              "#9c179e"
             ],
             [
              0.4444444444444444,
              "#bd3786"
             ],
             [
              0.5555555555555556,
              "#d8576b"
             ],
             [
              0.6666666666666666,
              "#ed7953"
             ],
             [
              0.7777777777777778,
              "#fb9f3a"
             ],
             [
              0.8888888888888888,
              "#fdca26"
             ],
             [
              1,
              "#f0f921"
             ]
            ],
            "type": "surface"
           }
          ],
          "table": [
           {
            "cells": {
             "fill": {
              "color": "#EBF0F8"
             },
             "line": {
              "color": "white"
             }
            },
            "header": {
             "fill": {
              "color": "#C8D4E3"
             },
             "line": {
              "color": "white"
             }
            },
            "type": "table"
           }
          ]
         },
         "layout": {
          "annotationdefaults": {
           "arrowcolor": "#2a3f5f",
           "arrowhead": 0,
           "arrowwidth": 1
          },
          "autotypenumbers": "strict",
          "coloraxis": {
           "colorbar": {
            "outlinewidth": 0,
            "ticks": ""
           }
          },
          "colorscale": {
           "diverging": [
            [
             0,
             "#8e0152"
            ],
            [
             0.1,
             "#c51b7d"
            ],
            [
             0.2,
             "#de77ae"
            ],
            [
             0.3,
             "#f1b6da"
            ],
            [
             0.4,
             "#fde0ef"
            ],
            [
             0.5,
             "#f7f7f7"
            ],
            [
             0.6,
             "#e6f5d0"
            ],
            [
             0.7,
             "#b8e186"
            ],
            [
             0.8,
             "#7fbc41"
            ],
            [
             0.9,
             "#4d9221"
            ],
            [
             1,
             "#276419"
            ]
           ],
           "sequential": [
            [
             0,
             "#0d0887"
            ],
            [
             0.1111111111111111,
             "#46039f"
            ],
            [
             0.2222222222222222,
             "#7201a8"
            ],
            [
             0.3333333333333333,
             "#9c179e"
            ],
            [
             0.4444444444444444,
             "#bd3786"
            ],
            [
             0.5555555555555556,
             "#d8576b"
            ],
            [
             0.6666666666666666,
             "#ed7953"
            ],
            [
             0.7777777777777778,
             "#fb9f3a"
            ],
            [
             0.8888888888888888,
             "#fdca26"
            ],
            [
             1,
             "#f0f921"
            ]
           ],
           "sequentialminus": [
            [
             0,
             "#0d0887"
            ],
            [
             0.1111111111111111,
             "#46039f"
            ],
            [
             0.2222222222222222,
             "#7201a8"
            ],
            [
             0.3333333333333333,
             "#9c179e"
            ],
            [
             0.4444444444444444,
             "#bd3786"
            ],
            [
             0.5555555555555556,
             "#d8576b"
            ],
            [
             0.6666666666666666,
             "#ed7953"
            ],
            [
             0.7777777777777778,
             "#fb9f3a"
            ],
            [
             0.8888888888888888,
             "#fdca26"
            ],
            [
             1,
             "#f0f921"
            ]
           ]
          },
          "colorway": [
           "#636efa",
           "#EF553B",
           "#00cc96",
           "#ab63fa",
           "#FFA15A",
           "#19d3f3",
           "#FF6692",
           "#B6E880",
           "#FF97FF",
           "#FECB52"
          ],
          "font": {
           "color": "#2a3f5f"
          },
          "geo": {
           "bgcolor": "white",
           "lakecolor": "white",
           "landcolor": "#E5ECF6",
           "showlakes": true,
           "showland": true,
           "subunitcolor": "white"
          },
          "hoverlabel": {
           "align": "left"
          },
          "hovermode": "closest",
          "mapbox": {
           "style": "light"
          },
          "paper_bgcolor": "white",
          "plot_bgcolor": "#E5ECF6",
          "polar": {
           "angularaxis": {
            "gridcolor": "white",
            "linecolor": "white",
            "ticks": ""
           },
           "bgcolor": "#E5ECF6",
           "radialaxis": {
            "gridcolor": "white",
            "linecolor": "white",
            "ticks": ""
           }
          },
          "scene": {
           "xaxis": {
            "backgroundcolor": "#E5ECF6",
            "gridcolor": "white",
            "gridwidth": 2,
            "linecolor": "white",
            "showbackground": true,
            "ticks": "",
            "zerolinecolor": "white"
           },
           "yaxis": {
            "backgroundcolor": "#E5ECF6",
            "gridcolor": "white",
            "gridwidth": 2,
            "linecolor": "white",
            "showbackground": true,
            "ticks": "",
            "zerolinecolor": "white"
           },
           "zaxis": {
            "backgroundcolor": "#E5ECF6",
            "gridcolor": "white",
            "gridwidth": 2,
            "linecolor": "white",
            "showbackground": true,
            "ticks": "",
            "zerolinecolor": "white"
           }
          },
          "shapedefaults": {
           "line": {
            "color": "#2a3f5f"
           }
          },
          "ternary": {
           "aaxis": {
            "gridcolor": "white",
            "linecolor": "white",
            "ticks": ""
           },
           "baxis": {
            "gridcolor": "white",
            "linecolor": "white",
            "ticks": ""
           },
           "bgcolor": "#E5ECF6",
           "caxis": {
            "gridcolor": "white",
            "linecolor": "white",
            "ticks": ""
           }
          },
          "title": {
           "x": 0.05
          },
          "xaxis": {
           "automargin": true,
           "gridcolor": "white",
           "linecolor": "white",
           "ticks": "",
           "title": {
            "standoff": 15
           },
           "zerolinecolor": "white",
           "zerolinewidth": 2
          },
          "yaxis": {
           "automargin": true,
           "gridcolor": "white",
           "linecolor": "white",
           "ticks": "",
           "title": {
            "standoff": 15
           },
           "zerolinecolor": "white",
           "zerolinewidth": 2
          }
         }
        },
        "title": {
         "text": "Stacked Funnel Chart : Movies & TV Shows by Country"
        }
       }
      }
     },
     "metadata": {},
     "output_type": "display_data"
    }
   ],
   "source": [
    "!pip install -U kaleido\n",
    "fig = go.Figure()\n",
    "\n",
    "# Adding movie trace\n",
    "fig.add_trace(go.Funnel(\n",
    "    y=top_10['country'],\n",
    "    x = top_10['Movie'],\n",
    "    name='Movies',\n",
    "    marker=dict(color='teal')\n",
    "))\n",
    "\n",
    "fig.add_trace(go.Funnel(\n",
    "    y=top_10['country'],\n",
    "    x = top_10['TV Show'],\n",
    "    name='TV Shows',\n",
    "    marker=dict(color='orange')\n",
    "))\n",
    "\n",
    "fig.update_layout(title='Stacked Funnel Chart : Movies & TV Shows by Country',\n",
    "                  funnelmode = 'stack')\n",
    "\n",
    "fig.show()\n",
    "pio.write_html(fig, file='stacked_funnel_movieTV_country.html', auto_open=True)\n",
    "pio.write_image(fig, file='stacked_funnel_movieTV_country.png' )"
   ]
  },
  {
   "cell_type": "markdown",
   "id": "bfde623f-878f-454c-ad76-0911302072b0",
   "metadata": {},
   "source": [
    "#####  We can infer that -> Country with the highest number of movies and TV Shows is USA \n",
    "49% of total Movies and 46.4% of Total TV Shows \n",
    "\n",
    "\n",
    "\n",
    "****Github Cannot render the plotly interactive charts, So I have embedded PNG directly into the markdown of Jupyter***"
   ]
  },
  {
   "cell_type": "markdown",
   "id": "307e32ef-29d1-4e46-b91d-a05c6266772c",
   "metadata": {},
   "source": [
    "![Stacked Funnel](./stacked_funnel_movieTV_country.png)"
   ]
  },
  {
   "cell_type": "markdown",
   "id": "f6d3a772-4a90-47fb-bd68-534f2e200636",
   "metadata": {},
   "source": [
    "### Year Wise Analysis"
   ]
  },
  {
   "cell_type": "code",
   "execution_count": 17,
   "id": "dedb7d27-c22c-4b1b-b508-af1b96e15454",
   "metadata": {},
   "outputs": [
    {
     "data": {
      "image/png": "[encoded data removed]",
      "text/plain": [
       "<Figure size 1000x1000 with 1 Axes>"
      ]
     },
     "metadata": {},
     "output_type": "display_data"
    }
   ],
   "source": [
    "plt.figure(figsize=(10,10))\n",
    "sns.set(style='darkgrid')\n",
    "\n",
    "# Top 10  years, most number of movies released by year, counted and not sorted\n",
    "top_years = imdb_merged_data['release_year'].value_counts().nlargest(10).index\n",
    "# print(top_years)\n",
    "\n",
    "#including those years only that are in top_years list\n",
    "filtered_data = imdb_merged_data[imdb_merged_data['release_year'].isin(top_years)]\n",
    "\n",
    "\n",
    "sns.countplot(y='release_year',\n",
    "             data=filtered_data,\n",
    "             hue='type',\n",
    "             palette='Set2',\n",
    "             order=top_years)\n",
    "\n",
    "\n",
    "\n",
    "plt.title('Top 10 Years by Count of Movies and TV Shows')\n",
    "plt.xlabel('Count')\n",
    "plt.ylabel('Release Year')\n",
    "plt.legend(title='Type')\n",
    "plt.tight_layout()\n",
    "plt.show()"
   ]
  },
  {
   "cell_type": "markdown",
   "id": "c4f6adc0",
   "metadata": {},
   "source": [
    "### Analysis of duration of Movies"
   ]
  },
  {
   "cell_type": "code",
   "execution_count": 18,
   "id": "eff4fe92",
   "metadata": {},
   "outputs": [
    {
     "data": {
      "image/png": "[encoded data removed]",
      "text/plain": [
       "<Figure size 1000x1000 with 1 Axes>"
      ]
     },
     "metadata": {},
     "output_type": "display_data"
    }
   ],
   "source": [
    "# Removing 'min' from the duration and converting it to number\n",
    "netflix_movies = imdb_merged_data[imdb_merged_data['type'] == 'Movie'].copy()\n",
    "netflix_movies['duration_num']=netflix_movies['duration'].str.replace(' min','')\n",
    "netflix_movies['duration_num']=netflix_movies['duration_num'].astype(str).astype(int)\n",
    "# netflix_movies['duration_num']\n",
    "plt.figure(figsize=(10,10))\n",
    "sns.set_theme(style='darkgrid')\n",
    "sns.kdeplot(data=netflix_movies['duration_num'],shade=True)\n",
    "\n",
    "\n",
    "\n",
    "# plotting the average duration line\n",
    "aver = np.average(netflix_movies['duration_num'])\n",
    "media = np.median(netflix_movies['duration_num'])\n",
    "plt.axvline(x=aver, color='blue', linestyle='--', linewidth='2', label=f\"Average Value -> {round(aver,1)}\")\n",
    "plt.axvline(x=media, color='darkblue', linestyle='--', linewidth='2', label = f\"Median Value -> {media}\")\n",
    "plt.title('KDE plot of Movie Duration')\n",
    "plt.legend()\n",
    "plt.xlabel('Time Duration (in Minutes)')\n",
    "plt.show()"
   ]
  },
  {
   "cell_type": "markdown",
   "id": "f33becab",
   "metadata": {},
   "source": [
    "#### This is a right-skewed (also called positively skewed) distribution.\n",
    "In right-skewed data:\n",
    "- Mean > Median\n",
    "- Long tail on the right side\n",
    "- Most values are concentrated on the left"
   ]
  },
  {
   "cell_type": "markdown",
   "id": "e8ad7357",
   "metadata": {},
   "source": [
    "### Analysis Remaining\n",
    "- by Genres\n",
    "- TV Series Analysis\n",
    "- TV Shows with Largest and Lowest Number of Seasons\n",
    "-  WordCloud For Genres\n",
    "- Analyzing the release year of movies and Date the movie was added to netflix\n",
    "- Creating a recommender System\n",
    "- Movies and TV Shows Added over time (and cumulative total), Year-by-year and Month-by-month\n",
    "- Target ages Analysis\n",
    "- Analysis and comparison of India and USA \n",
    "- "
   ]
  }
 ],
 "metadata": {
  "kernelspec": {
   "display_name": "Main",
   "language": "python",
   "name": "python3"
  },
  "language_info": {
   "codemirror_mode": {
    "name": "ipython",
    "version": 3
   },
   "file_extension": ".py",
   "mimetype": "text/x-python",
   "name": "python",
   "nbconvert_exporter": "python",
   "pygments_lexer": "ipython3",
   "version": "3.8.18"
  }
 },
 "nbformat": 4,
 "nbformat_minor": 5
}
