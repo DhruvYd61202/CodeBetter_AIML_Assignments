{
 "cells": [
  {
   "cell_type": "markdown",
   "id": "2cc21fea",
   "metadata": {},
   "source": [
    "### EDA On Netflix Dataset\n"
   ]
  },
  {
   "cell_type": "code",
   "execution_count": 1,
   "id": "4deef0c8",
   "metadata": {},
   "outputs": [],
   "source": [
    "import numpy as np\n",
    "import pandas as pd\n",
    "import matplotlib.pyplot as plt\n",
    "import seaborn as sns\n",
    "import plotly.express as ps\n",
    "pd.set_option('display.max_columns', None)\n",
    "pd.set_option('display.max_rows', None)\n",
    "%matplotlib inline"
   ]
  },
  {
   "cell_type": "markdown",
   "id": "e30b9caf-66cc-41bd-b09d-a3b42ba125ea",
   "metadata": {},
   "source": [
    "#### Imputing Missing Values, Checking Duplicates and Fixing data types (if needed)"
   ]
  },
  {
   "cell_type": "code",
   "execution_count": 36,
   "id": "c990b4ff",
   "metadata": {},
   "outputs": [
    {
     "name": "stdout",
     "output_type": "stream",
     "text": [
      "  show_id     type                  title         director  \\\n",
      "0      s1    Movie   Dick Johnson Is Dead  Kirsten Johnson   \n",
      "1      s2  TV Show          Blood & Water              NaN   \n",
      "2      s3  TV Show              Ganglands  Julien Leclercq   \n",
      "3      s4  TV Show  Jailbirds New Orleans              NaN   \n",
      "4      s5  TV Show           Kota Factory              NaN   \n",
      "\n",
      "                                                cast        country  \\\n",
      "0                                                NaN  United States   \n",
      "1  Ama Qamata, Khosi Ngema, Gail Mabalane, Thaban...   South Africa   \n",
      "2  Sami Bouajila, Tracy Gotoas, Samuel Jouy, Nabi...            NaN   \n",
      "3                                                NaN            NaN   \n",
      "4  Mayur More, Jitendra Kumar, Ranjan Raj, Alam K...          India   \n",
      "\n",
      "           date_added  release_year rating   duration  \\\n",
      "0  September 25, 2021          2020  PG-13     90 min   \n",
      "1  September 24, 2021          2021  TV-MA  2 Seasons   \n",
      "2  September 24, 2021          2021  TV-MA   1 Season   \n",
      "3  September 24, 2021          2021  TV-MA   1 Season   \n",
      "4  September 24, 2021          2021  TV-MA  2 Seasons   \n",
      "\n",
      "                                           listed_in  \\\n",
      "0                                      Documentaries   \n",
      "1    International TV Shows, TV Dramas, TV Mysteries   \n",
      "2  Crime TV Shows, International TV Shows, TV Act...   \n",
      "3                             Docuseries, Reality TV   \n",
      "4  International TV Shows, Romantic TV Shows, TV ...   \n",
      "\n",
      "                                         description  \n",
      "0  As her father nears the end of his life, filmm...  \n",
      "1  After crossing paths at a party, a Cape Town t...  \n",
      "2  To protect his family from a powerful drug lor...  \n",
      "3  Feuds, flirtations and toilet talk go down amo...  \n",
      "4  In a city of coaching centers known to train I...  \n",
      "Index(['show_id', 'type', 'title', 'director', 'cast', 'country', 'date_added',\n",
      "       'release_year', 'rating', 'duration', 'listed_in', 'description'],\n",
      "      dtype='object')\n"
     ]
    }
   ],
   "source": [
    "data  = pd.read_csv('netflix_titles.csv')\n",
    "df = pd.DataFrame(data)\n",
    "print(df.head())\n",
    "print(df.columns)"
   ]
  },
  {
   "cell_type": "code",
   "execution_count": 37,
   "id": "09cb9072",
   "metadata": {},
   "outputs": [
    {
     "name": "stdout",
     "output_type": "stream",
     "text": [
      " director null_rate ->  29.91%\n",
      " cast null_rate ->  9.37%\n",
      " country null_rate ->  9.44%\n",
      " date_added null_rate ->  0.11%\n",
      " rating null_rate ->  0.05%\n",
      " duration null_rate ->  0.03%\n"
     ]
    }
   ],
   "source": [
    "# Attributes Director, cast, country, date_added, ratinf and duration have null values in descending order respectively\n",
    "# print(df.isna().sum())\n",
    "# Missing rates in the dataframe\n",
    "for i in df.columns:\n",
    "    null_rate = df[i].isna().sum() / len(df) * 100\n",
    "    if null_rate > 0:\n",
    "        print(\" {} null_rate ->  {}%\".format(i, round(null_rate,2)))   "
   ]
  },
  {
   "cell_type": "markdown",
   "id": "bdaf424a-2c25-4b04-b6d2-25d17c8d8ab9",
   "metadata": {},
   "source": [
    "5 columns have missing values, with Director missing almost 1/3 of the time"
   ]
  },
  {
   "cell_type": "markdown",
   "id": "9b6a5c85-0e38-4ba0-8df7-2c3017f87d0a",
   "metadata": {},
   "source": [
    "## Dealing with Missing Values\n",
    "- Replacing Blank Countries with mode country \n",
    "\n",
    "- I have decided not to drop directors and cast, as it could be interesting to look at movies of particular directors and genres"
   ]
  },
  {
   "cell_type": "code",
   "execution_count": 43,
   "id": "26c2507c-83fd-4130-9af8-569d8d7d8cc2",
   "metadata": {},
   "outputs": [
    {
     "name": "stdout",
     "output_type": "stream",
     "text": [
      "show_id          0\n",
      "type             0\n",
      "title            0\n",
      "director         0\n",
      "cast             0\n",
      "country          0\n",
      "date_added      10\n",
      "release_year     0\n",
      "rating           4\n",
      "duration         3\n",
      "listed_in        0\n",
      "description      0\n",
      "dtype: int64\n"
     ]
    }
   ],
   "source": [
    "df['country'] = df['country'].fillna(df['country'].mode()[0])\n",
    "df['cast'].replace(np.nan, 'No Data', inplace=True)\n",
    "df['director'].replace(np.nan, 'No Data', inplace=True)\n",
    "\n",
    "# dropping duplicate values\n",
    "df.drop_duplicates(inplace=True)\n",
    "#check if the values are imputed\n",
    "print(df.isna().sum())\n"
   ]
  },
  {
   "cell_type": "code",
   "execution_count": 55,
   "id": "3dacab76-a514-44a3-a9a0-2ad26f53e463",
   "metadata": {},
   "outputs": [
    {
     "name": "stdout",
     "output_type": "stream",
     "text": [
      "datetime64[ns]\n"
     ]
    },
    {
     "data": {
      "text/plain": [
       "(8807, 12)"
      ]
     },
     "execution_count": 55,
     "metadata": {},
     "output_type": "execute_result"
    }
   ],
   "source": [
    "print(df['date_added'].dtype)\n",
    "#it outputs, 'object' which means there are different date formats\n",
    "df['date_added'] = pd.to_datetime(df['date_added'], errors='coerce')\n",
    "df[df['date_added'].isnull()]['date_added']\n",
    "\n",
    "# Let's have a look at the date_added missing values' other attributes\n",
    "df[df['date_added'].isnull()]\n",
    "#there are 98 missing values in the date format, which shows 'NaT' not a time type\n",
    "# we will replace those values with (release_year + 1) value if it is a movie/series both,\n",
    "# estimating that those movies "
   ]
  },
  {
   "cell_type": "code",
   "execution_count": null,
   "id": "a65aad86-b613-4f23-a6c6-570da50a1810",
   "metadata": {},
   "outputs": [],
   "source": []
  }
 ],
 "metadata": {
  "kernelspec": {
   "display_name": "Main",
   "language": "python",
   "name": "python3"
  },
  "language_info": {
   "codemirror_mode": {
    "name": "ipython",
    "version": 3
   },
   "file_extension": ".py",
   "mimetype": "text/x-python",
   "name": "python",
   "nbconvert_exporter": "python",
   "pygments_lexer": "ipython3",
   "version": "3.8.18"
  }
 },
 "nbformat": 4,
 "nbformat_minor": 5
}
